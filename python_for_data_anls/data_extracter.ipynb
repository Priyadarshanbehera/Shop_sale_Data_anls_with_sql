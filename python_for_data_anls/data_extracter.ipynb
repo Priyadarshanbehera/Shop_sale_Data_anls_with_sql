{
 "cells": [
  {
   "cell_type": "markdown",
   "metadata": {},
   "source": [
    "Data base connection "
   ]
  },
  {
   "cell_type": "code",
   "execution_count": 2,
   "metadata": {},
   "outputs": [],
   "source": [
    "import pandas as pd\n",
    "import matplotlib.pyplot as plt\n",
    "# import seaborn as sns\n",
    "import mysql.connector\n",
    "\n",
    "\n",
    "db = mysql.connector.connect(host = \"localhost\",\n",
    "                            username = \"root\",\n",
    "                            password = \"root\",\n",
    "                            database = \"e_com_prj01\")\n",
    "\n",
    "cur = db.cursor()"
   ]
  },
  {
   "cell_type": "markdown",
   "metadata": {},
   "source": [
    "1. List all unique cities where customers are located."
   ]
  },
  {
   "cell_type": "code",
   "execution_count": null,
   "metadata": {},
   "outputs": [],
   "source": [
    "query = \"\"\" select distinct customer_city as \"Citys\" from customers \"\"\"\n",
    "\n",
    "cur.execute(query)\n",
    "\n",
    "data = cur.fetchall()\n",
    "\n",
    "df = pd.DataFrame(data)\n",
    "df.head()"
   ]
  },
  {
   "cell_type": "markdown",
   "metadata": {},
   "source": [
    "Count the number of orders placed in 2017"
   ]
  },
  {
   "cell_type": "code",
   "execution_count": null,
   "metadata": {},
   "outputs": [],
   "source": [
    "query = \"\"\" select count(order_purchase_timestamp) from orders\n",
    "where order_purchase_timestamp =2017\"\"\"\n",
    "\n",
    "cur.execute(query)\n",
    "\n",
    "data = cur.fetchall()\n",
    "\n",
    "df = pd.DataFrame(data)\n",
    "df.head()"
   ]
  },
  {
   "cell_type": "markdown",
   "metadata": {},
   "source": [
    " Find the total sales per category."
   ]
  },
  {
   "cell_type": "code",
   "execution_count": null,
   "metadata": {},
   "outputs": [],
   "source": [
    "query = \"\"\" select upper(products.product_category) category, round(sum(payments.payment_value),2) sales from e_com_prj01.products\n",
    "\n",
    "join e_com_prj01.delivery\n",
    "on e_com_prj01.products.product_id=e_com_prj01.delivery.product_id\n",
    "join e_com_prj01.payments\n",
    "on e_com_prj01.payments.order_id=e_com_prj01.delivery.order_id group by category;\n",
    "\"\"\"\n",
    "\n",
    "cur.execute(query)\n",
    "\n",
    "data = cur.fetchall()\n",
    "\n",
    "df = pd.DataFrame(data,columns = [\"Category\", \"Sales\"])\n",
    "df\n"
   ]
  },
  {
   "cell_type": "markdown",
   "metadata": {},
   "source": [
    "4. Calculate the percentage of orders that were paid in installments."
   ]
  },
  {
   "cell_type": "code",
   "execution_count": null,
   "metadata": {},
   "outputs": [],
   "source": [
    "query = ''' select (count(payment_installments)/ (select count(*)  from e_com_prj01.payments) ) * 100  percentage \n",
    "from e_com_prj01.payments\n",
    "where payment_installments>=1 '''\n",
    "cur.execute(query)\n",
    "data = cur.fetchall()\n",
    "data\n",
    "df=pd.DataFrame(data[0])\n",
    "df.head(1)"
   ]
  },
  {
   "cell_type": "code",
   "execution_count": null,
   "metadata": {},
   "outputs": [],
   "source": [
    "query = \"\"\" select ((sum(case when payment_installments >= 1 then 1\n",
    "else 0 end))/count(*))*100 from payments\n",
    "\"\"\"\n",
    "\n",
    "cur.execute(query)\n",
    "\n",
    "data = cur.fetchall()\n",
    "\n",
    "\"the percentage of orders that were paid in installments is\", data[0][0]"
   ]
  },
  {
   "cell_type": "markdown",
   "metadata": {},
   "source": [
    "5. Count the number of customers from each state. "
   ]
  },
  {
   "cell_type": "code",
   "execution_count": null,
   "metadata": {},
   "outputs": [],
   "source": [
    "query = ''' select seller_state,count(seller_id) from e_com_prj01.seller\n",
    "group by seller_state '''\n",
    "\n",
    "cur.execute(query)\n",
    "\n",
    "data = cur.fetchall()\n",
    "data"
   ]
  },
  {
   "cell_type": "markdown",
   "metadata": {},
   "source": [
    "Intermediate Queries\n",
    "1. Calculate the number of orders per month in 2018."
   ]
  },
  {
   "cell_type": "code",
   "execution_count": null,
   "metadata": {},
   "outputs": [],
   "source": [
    "\n",
    "query = ''' select monthname(order_purchase_timestamp) months, count(order_id) order_count\n",
    "from e_com_prj01.orders\n",
    "where year(order_purchase_timestamp) = 2018\n",
    "group by months'''\n",
    "cur.execute(query)\n",
    "data = cur.fetchall()\n",
    "# data\n",
    "df=pd.DataFrame (data,columns =[\"months\",\"order_count\"])\n",
    "# df\n",
    "plt.xticks(rotation = 45)\n",
    "plt.title(\"Count of Orders by Months is 2018\")\n",
    "\n",
    "plt.show()\n"
   ]
  },
  {
   "cell_type": "code",
   "execution_count": null,
   "metadata": {},
   "outputs": [],
   "source": [
    "query = \"\"\" select monthname(order_purchase_timestamp) months, count(order_id) order_count\n",
    "from orders where year(order_purchase_timestamp) = 2018\n",
    "group by months\n",
    "\"\"\"\n",
    "\n",
    "cur.execute(query)\n",
    "\n",
    "data = cur.fetchall()\n",
    "df = pd.DataFrame(data, columns = [\"months\", \"order_count\"])\n",
    "o = [\"January\", \"February\",\"March\",\"April\",\"May\",\"June\",\"July\",\"August\",\"September\",\"October\"]\n",
    "\n",
    "# ax = sns.barplot(x = df[\"months\"],y =  df[\"order_count\"], data = df, order = o, color = \"red\")\n",
    "plt.xticks(rotation = 45)\n",
    "# ax.bar_label(ax.containers[0])\n",
    "plt.title(\"Count of Orders by Months is 2018\")\n",
    "\n",
    "plt.show()"
   ]
  },
  {
   "cell_type": "markdown",
   "metadata": {},
   "source": [
    "2. Find the average number of products per order, grouped by customer city."
   ]
  },
  {
   "cell_type": "code",
   "execution_count": null,
   "metadata": {},
   "outputs": [],
   "source": [
    "query= '''with as_per_count as (select orders.order_id,orders.customer_id, count(delivery.order_id) as oc from e_com_prj01.orders join e_com_prj01.delivery on\n",
    "orders.order_id = delivery.order_id\n",
    "group by orders.order_id,orders.customer_id) \n",
    "\n",
    "select customers.customer_city, round(avg(as_per_count.oc),2) average_orders\n",
    "from customers join as_per_count\n",
    "on customers.customer_id = as_per_count.customer_id\n",
    "group by customers.customer_city order by average_orders desc;'''\n",
    "\n",
    "cur.execute(query)\n",
    "data= cur.fetchall()\n",
    "df =pd.DataFrame(data)\n",
    "df"
   ]
  },
  {
   "cell_type": "markdown",
   "metadata": {},
   "source": [
    "3. Calculate the percentage of total revenue contributed by each product category."
   ]
  },
  {
   "cell_type": "code",
   "execution_count": null,
   "metadata": {},
   "outputs": [],
   "source": [
    "query =''' with as_new_tab as (select products.product_category, round(sum(delivery.price)) Actull_sell_price ,round(sum(payments.payment_value)) act_paid_prc ,\n",
    "(round(sum(payments.payment_value)) - round(sum(delivery.price)))  as  ravinew  \n",
    "from products join delivery \n",
    "on products.product_id = delivery.product_id \n",
    "join payments on  payments.order_id = delivery.order_id\n",
    "group by product_category)\n",
    "\n",
    "select product_category, ravinew ,(ravinew/(select sum(ravinew) from as_new_tab) *100) as percentages from as_new_tab;'''\n",
    "\n",
    "cur.execute(query)\n",
    "data =cur.fetchall()\n",
    "df = pd.DataFrame(data,columns =['product','ravinew','percentage'])\n",
    "df"
   ]
  },
  {
   "cell_type": "markdown",
   "metadata": {},
   "source": [
    "4. Identify the correlation between product price and the number of times a product has been purchased."
   ]
  },
  {
   "cell_type": "code",
   "execution_count": null,
   "metadata": {},
   "outputs": [
    {
     "data": {
      "text/plain": [
       "array([[ 1.        , -0.10631514],\n",
       "       [-0.10631514,  1.        ]])"
      ]
     },
     "execution_count": 13,
     "metadata": {},
     "output_type": "execute_result"
    }
   ],
   "source": [
    "query='''select count(e.product_id),product_category,round(avg(price),2) from e_com_prj01.delivery d\n",
    "join e_com_prj01.products e on \n",
    "d.product_id = e.product_id\n",
    "group by product_category;'''\n",
    "cur.execute(query)\n",
    "data = cur.fetchall()\n",
    "df = pd.DataFrame (data,columns= ['Count_Of_Product','Product_Category','On_Average_Price'])\n",
    "df['Count_Of_Product'],df['On_Average_Price']\n",
    "import numpy as np\n",
    "np.corrcoef([df['Count_Of_Product'],df['On_Average_Price']]) # it will denoted as how it co related the product price and product's numver of purchased\n"
   ]
  },
  {
   "cell_type": "markdown",
   "metadata": {},
   "source": [
    "5. Calculate the total revenue generated by each seller, and rank them by revenue."
   ]
  },
  {
   "cell_type": "code",
   "execution_count": 16,
   "metadata": {},
   "outputs": [
    {
     "data": {
      "text/html": [
       "<div>\n",
       "<style scoped>\n",
       "    .dataframe tbody tr th:only-of-type {\n",
       "        vertical-align: middle;\n",
       "    }\n",
       "\n",
       "    .dataframe tbody tr th {\n",
       "        vertical-align: top;\n",
       "    }\n",
       "\n",
       "    .dataframe thead th {\n",
       "        text-align: right;\n",
       "    }\n",
       "</style>\n",
       "<table border=\"1\" class=\"dataframe\">\n",
       "  <thead>\n",
       "    <tr style=\"text-align: right;\">\n",
       "      <th></th>\n",
       "      <th>Seller_Id</th>\n",
       "      <th>Revenue</th>\n",
       "      <th>Product_Quantity</th>\n",
       "      <th>Ranks</th>\n",
       "    </tr>\n",
       "  </thead>\n",
       "  <tbody>\n",
       "    <tr>\n",
       "      <th>0</th>\n",
       "      <td>4869f7a5dfa277a7dca6462dcf3b52b2</td>\n",
       "      <td>249640.70</td>\n",
       "      <td>1156</td>\n",
       "      <td>1</td>\n",
       "    </tr>\n",
       "    <tr>\n",
       "      <th>1</th>\n",
       "      <td>7c67e1448b00f6e969d365cea6b010ab</td>\n",
       "      <td>239536.44</td>\n",
       "      <td>1364</td>\n",
       "      <td>2</td>\n",
       "    </tr>\n",
       "    <tr>\n",
       "      <th>2</th>\n",
       "      <td>53243585a1d6dc2643021fd1853d8905</td>\n",
       "      <td>235856.68</td>\n",
       "      <td>410</td>\n",
       "      <td>3</td>\n",
       "    </tr>\n",
       "    <tr>\n",
       "      <th>3</th>\n",
       "      <td>4a3ca9315b744ce9f8e9374361493884</td>\n",
       "      <td>235539.96</td>\n",
       "      <td>1987</td>\n",
       "      <td>4</td>\n",
       "    </tr>\n",
       "    <tr>\n",
       "      <th>4</th>\n",
       "      <td>fa1c13f2614d7b5c4749cbc52fecda94</td>\n",
       "      <td>204084.73</td>\n",
       "      <td>586</td>\n",
       "      <td>5</td>\n",
       "    </tr>\n",
       "    <tr>\n",
       "      <th>5</th>\n",
       "      <td>da8622b14eb17ae2831f4ac5b9dab84a</td>\n",
       "      <td>185192.32</td>\n",
       "      <td>1551</td>\n",
       "      <td>6</td>\n",
       "    </tr>\n",
       "  </tbody>\n",
       "</table>\n",
       "</div>"
      ],
      "text/plain": [
       "                          Seller_Id    Revenue  Product_Quantity  Ranks\n",
       "0  4869f7a5dfa277a7dca6462dcf3b52b2  249640.70              1156      1\n",
       "1  7c67e1448b00f6e969d365cea6b010ab  239536.44              1364      2\n",
       "2  53243585a1d6dc2643021fd1853d8905  235856.68               410      3\n",
       "3  4a3ca9315b744ce9f8e9374361493884  235539.96              1987      4\n",
       "4  fa1c13f2614d7b5c4749cbc52fecda94  204084.73               586      5\n",
       "5  da8622b14eb17ae2831f4ac5b9dab84a  185192.32              1551      6"
      ]
     },
     "execution_count": 16,
     "metadata": {},
     "output_type": "execute_result"
    }
   ],
   "source": [
    "query='''select * ,dense_rank() over(order by a.revenue desc) as 'rank' from \n",
    "(\n",
    "select distinct s.seller_id ,round(sum(d.price+d.freight_value),2) as revenue ,count(d.order_id) from  e_com_prj01.seller s \n",
    "join e_com_prj01.delivery d on\n",
    "s.seller_id=d.seller_id\n",
    "join e_com_prj01.products p\n",
    "on d.product_id = p.product_id\n",
    "group by seller_id\n",
    ") as a;'''\n",
    "\n",
    "cur.execute(query)\n",
    "data = cur. fetchall()\n",
    "df = pd.DataFrame( data, columns= [\"Seller_Id\" , \"Revenue\", \"Product_Quantity\", \"Ranks\" ] )\n",
    "df[0:6]"
   ]
  },
  {
   "cell_type": "markdown",
   "metadata": {},
   "source": [
    "Advanced Queries\n",
    "1. Calculate the moving average of order values for each customer over their order history."
   ]
  },
  {
   "cell_type": "code",
   "execution_count": null,
   "metadata": {},
   "outputs": [],
   "source": [
    "query='''select customer_id, order_purchase_timestamp,payment_value,avg(payment_value)  over(partition by customer_id order by order_purchase_timestamp\n",
    "rows between 2 preceding and current row)as mov_avg from\n",
    "(select c.customer_id ,o.order_purchase_timestamp, o.order_id, p.payment_value from e_com_prj01.customers as c join e_com_prj01.orders as o \n",
    "on o.customer_id= c.customer_id join e_com_prj01.payments as p\n",
    "on o.order_id = p.order_id) as a;\n",
    "'''\n",
    "cur.execute(query)\n",
    "data=cur.fetchall()\n",
    "df=pd.DataFrame(data)\n",
    "df"
   ]
  },
  {
   "cell_type": "markdown",
   "metadata": {},
   "source": [
    "2. Calculate the cumulative sales per month for each year."
   ]
  },
  {
   "cell_type": "code",
   "execution_count": null,
   "metadata": {},
   "outputs": [],
   "source": [
    "query = '''\n",
    "SELECT \n",
    "    years, \n",
    "    months, \n",
    "    total_payments, \n",
    "    ROUND(SUM(total_payments) OVER(ORDER BY years, months), 2) AS Cumulative_sells_per_year\n",
    "FROM \n",
    "(\n",
    "    SELECT \n",
    "        YEAR(order_purchase_timestamp) AS years, \n",
    "        MONTHNAME(order_purchase_timestamp) AS months, \n",
    "        COUNT(o.order_id) AS order_count,\n",
    "        ROUND(SUM(p.payment_value), 2) AS total_payments\n",
    "    FROM \n",
    "        e_com_prj01.orders AS o \n",
    "    JOIN \n",
    "        e_com_prj01.payments AS p\n",
    "    ON \n",
    "        o.order_id = p.order_id\n",
    "    GROUP BY \n",
    "        years, months, MONTH(order_purchase_timestamp)\n",
    "    ORDER BY \n",
    "        years, MONTH(order_purchase_timestamp)\n",
    ") AS a;\n",
    "'''\n",
    "cur.execute(query)\n",
    "data = cur.fetchall()\n",
    "data\n",
    "# try:\n",
    "#     # Execute the query\n",
    "#     cur.execute(query)\n",
    "\n",
    "#     # Fetch the data\n",
    "#     data = cur.fetchall()\n",
    "\n",
    "    # Print the results\n",
    "for row in data:\n",
    "    print(row)"
   ]
  },
  {
   "cell_type": "markdown",
   "metadata": {},
   "source": [
    "3. Calculate the year-over-year growth rate of total sales."
   ]
  },
  {
   "cell_type": "code",
   "execution_count": 6,
   "metadata": {},
   "outputs": [
    {
     "data": {
      "text/html": [
       "<div>\n",
       "<style scoped>\n",
       "    .dataframe tbody tr th:only-of-type {\n",
       "        vertical-align: middle;\n",
       "    }\n",
       "\n",
       "    .dataframe tbody tr th {\n",
       "        vertical-align: top;\n",
       "    }\n",
       "\n",
       "    .dataframe thead th {\n",
       "        text-align: right;\n",
       "    }\n",
       "</style>\n",
       "<table border=\"1\" class=\"dataframe\">\n",
       "  <thead>\n",
       "    <tr style=\"text-align: right;\">\n",
       "      <th></th>\n",
       "      <th>Year</th>\n",
       "      <th>Payment</th>\n",
       "      <th>YOY</th>\n",
       "    </tr>\n",
       "  </thead>\n",
       "  <tbody>\n",
       "    <tr>\n",
       "      <th>0</th>\n",
       "      <td>2016</td>\n",
       "      <td>59362.34</td>\n",
       "      <td>NaN</td>\n",
       "    </tr>\n",
       "    <tr>\n",
       "      <th>1</th>\n",
       "      <td>2017</td>\n",
       "      <td>7249746.73</td>\n",
       "      <td>12112.7</td>\n",
       "    </tr>\n",
       "    <tr>\n",
       "      <th>2</th>\n",
       "      <td>2018</td>\n",
       "      <td>8699763.05</td>\n",
       "      <td>20.0</td>\n",
       "    </tr>\n",
       "  </tbody>\n",
       "</table>\n",
       "</div>"
      ],
      "text/plain": [
       "   Year     Payment      YOY\n",
       "0  2016    59362.34      NaN\n",
       "1  2017  7249746.73  12112.7\n",
       "2  2018  8699763.05     20.0"
      ]
     },
     "execution_count": 6,
     "metadata": {},
     "output_type": "execute_result"
    }
   ],
   "source": [
    "query =''' \n",
    "with a as(select year(order_purchase_timestamp) as years ,round (sum( payment_value ),2) as payments  from e_com_prj01.orders as od\n",
    "join\n",
    "e_com_prj01.payments as pay\n",
    "on \n",
    "od.order_id = pay.order_id\n",
    "group by years order by years desc)\n",
    "select years,payments, round (((payments - lag(a.payments,1)over( order by years))/lag(a.payments,1)over( order by years))*100,2) as \"YOY\" from  a;\n",
    "'''\n",
    "cur.execute(query)\n",
    "data=cur.fetchall()\n",
    "df = pd.DataFrame( data, columns= [\"Year\",\"Payment\",\"YOY\"])\n",
    "df"
   ]
  }
 ],
 "metadata": {
  "kernelspec": {
   "display_name": "Python 3",
   "language": "python",
   "name": "python3"
  },
  "language_info": {
   "codemirror_mode": {
    "name": "ipython",
    "version": 3
   },
   "file_extension": ".py",
   "mimetype": "text/x-python",
   "name": "python",
   "nbconvert_exporter": "python",
   "pygments_lexer": "ipython3",
   "version": "3.11.1"
  }
 },
 "nbformat": 4,
 "nbformat_minor": 2
}
